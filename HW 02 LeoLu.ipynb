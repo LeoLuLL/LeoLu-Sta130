{
 "cells": [
  {
   "cell_type": "code",
   "execution_count": 1,
   "id": "29114874",
   "metadata": {},
   "outputs": [
    {
     "data": {
      "text/plain": [
       "0.66589"
      ]
     },
     "execution_count": 1,
     "metadata": {},
     "output_type": "execute_result"
    }
   ],
   "source": [
    "import numpy as np\n",
    "all_door_options = (1,2,3)  # means the three doors(1,2,3)\n",
    "my_door_choice = 1  # \"I\" chose a door\n",
    "i_won = 0 # counts number of wins\n",
    "reps = 100000 # run 100000 times to easily see the scale of the final result\n",
    "for i in range(reps): # a loop to run \"reps\" times\n",
    "    secret_winning_door = np.random.choice(all_door_options)# randomly select a door from\"1,2,3\" as the winning door\n",
    "    all_door_options_list = list(all_door_options)# converts all_door_options to a list\n",
    "    all_door_options_list.remove(secret_winning_door)# secret_winning_door is the door with car behind, remove it because Monty can't reveal that door\n",
    "    try:\n",
    "        all_door_options_list.remove(my_door_choice)\n",
    "    except:\n",
    "        pass\n",
    "    # Remove the door \"I\" first picked, this is to prevent “Monty” from picking my door, if mine is the winning door, then that door has been removed. \n",
    "    # If it is not, it is removed here. This way Monty will only pick a “goat door” that I didn't choose.\n",
    "    goat_door_reveal = np.random.choice(all_door_options_list)# Randomly picked a goat door\n",
    "    all_door_options_list.remove(goat_door_reveal)# Remove the goat door from the list, leaving only one other door (not the one \"I\" chose).\n",
    "\n",
    "    if secret_winning_door != my_door_choice:\n",
    "        all_door_options_list.append(secret_winning_door)\n",
    "# If the initial selection is not a winning gate, it will add the winning gate back to the list.\n",
    "    my_door_choice = all_door_options_list[0]\n",
    "# \"I\" always switches to the remaining door (as a way to verify the solution)\n",
    "\n",
    "    if my_door_choice == secret_winning_door:\n",
    "        i_won += 1\n",
    "# Increase counter by 1 if winning door is selected\n",
    "i_won/reps\n",
    "# Divide the number of wins by the total number of wins to get the percentage of wins\n",
    "\n",
    "# Question 1"
   ]
  },
  {
   "cell_type": "code",
   "execution_count": 2,
   "id": "89a523f8",
   "metadata": {},
   "outputs": [
    {
     "name": "stdout",
     "output_type": "stream",
     "text": [
      "Win rate when always switching: 66.47%\n"
     ]
    }
   ],
   "source": [
    "import numpy as np\n",
    "\n",
    "reps = 100000\n",
    "wins = 0\n",
    "\n",
    "for _ in range(reps):\n",
    "    winning_door = np.random.randint(1, 4)\n",
    "    \n",
    "    initial_choice = 1\n",
    "\n",
    "    if initial_choice != winning_door:\n",
    "        switched_choice = winning_door \n",
    "    else:\n",
    "        switched_choice = np.random.choice([door for door in [2, 3] if door != winning_door]) \n",
    "    \n",
    "    if switched_choice == winning_door:\n",
    "        wins += 1\n",
    "\n",
    "win_rate = wins / reps\n",
    "print(f\"Win rate when always switching: {win_rate:.2%}\")\n",
    "\n",
    "# Chatgpt streamlined code is obviously much more concise than the original code, but I think the original code is cumbersome, but many of the basic steps in it can help to understand the code.\n",
    "# While Chatgpt omits a lot of basic steps, the readability of the streamlined code is rather a bit weaker than the original code.\n",
    "# But I think for people who have some basic knowledge of code, Chatgpt's code will be more readable.\n",
    "\n",
    "# Question 2"
   ]
  },
  {
   "cell_type": "code",
   "execution_count": null,
   "id": "ec498608",
   "metadata": {},
   "outputs": [],
   "source": [
    "import numpy as np\n",
    "all_door_options = (1,2,3)  # means the three doors(1,2,3)\n",
    "my_door_choice = 1  # \"I\" chose a door\n",
    "i_won = 0 # counts number of wins\n",
    "reps = 100000 # run 100000 times to easily see the scale of the final result\n",
    "for i in range(reps): # a loop to run \"reps\" times\n",
    "    secret_winning_door = np.random.choice(all_door_options)# randomly select a door from\"1,2,3\" as the winning door\n",
    "    all_door_options_list = list(all_door_options)# converts all_door_options to a list\n",
    "    all_door_options_list.remove(secret_winning_door)# secret_winning_door is the door with car behind, remove it because Monty can't reveal that door\n",
    "    try:\n",
    "        all_door_options_list.remove(my_door_choice)\n",
    "    except:\n",
    "        pass\n",
    "    # Remove the door \"I\" first picked, this is to prevent “Monty” from picking my door, if mine is the winning door, then that door has been removed. \n",
    "    # If it is not, it is removed here. This way Monty will only pick a “goat door” that I didn't choose.\n",
    "    goat_door_reveal = np.random.choice(all_door_options_list)# Randomly picked a goat door\n",
    "    all_door_options_list.remove(goat_door_reveal)# Remove the goat door from the list, leaving only one other door (not the one \"I\" chose).\n",
    "\n",
    "    if secret_winning_door != my_door_choice:\n",
    "        all_door_options_list.append(secret_winning_door)\n",
    "# If the initial selection is not a winning gate, it will add the winning gate back to the list.\n",
    "    my_door_choice = all_door_options_list[0]\n",
    "# \"I\" always switches to the remaining door (as a way to verify the solution)\n",
    "\n",
    "    if my_door_choice == secret_winning_door:\n",
    "        i_won += 1\n",
    "# Increase counter by 1 if winning door is selected\n",
    "i_won/reps\n",
    "# Divide the number of wins by the total number of wins to get the percentage of wins\n",
    "\n",
    "# Question 3"
   ]
  },
  {
   "cell_type": "code",
   "execution_count": 4,
   "id": "bbb9cdf0",
   "metadata": {},
   "outputs": [],
   "source": [
    "# Summary by Chatbot: \n",
    "# Markovian ChatBot Code Explanation:\n",
    "# We discussed how a Markovian ChatBot uses two dictionaries to model word transitions:\n",
    "# word_used: Keeps track of how many times each word appears.\n",
    "# next_word: Tracks which words follow each word and how often they appear.\n",
    "# The code iterates through a list of words to update these dictionaries, counting word occurrences and recording subsequent words for each word in the input.\n",
    "# Line-by-Line Breakdown:\n",
    "# We went through the code line by line, explaining the purpose of each part, including initializing dictionaries, updating counts, and tracking next words.\n",
    "# This code helps the chatbot generate text by predicting the next word based on the frequency of word sequences in the training data, following the principles of a Markov chain.\n",
    "\n",
    "# history: https://chatgpt.com/share/66eb5a25-2dd4-800b-a939-4c5b1ee5ca03\n",
    "\n",
    "# Question 4"
   ]
  },
  {
   "cell_type": "code",
   "execution_count": null,
   "id": "509c610b",
   "metadata": {},
   "outputs": [],
   "source": [
    "# 1.Summary by Chatbot:\n",
    "\n",
    "#Original Markovian ChatBot Code:\n",
    "#Purpose: Implements a basic Markovian chatbot using word transitions.\n",
    "#Mechanism:\n",
    "#Tracks the frequency of individual words and their immediate successors.\n",
    "#Uses these frequencies to generate new sentences based on learned transitions.\n",
    "\n",
    "#Markovian ChatBot Extension #1:\n",
    "#Purpose: Enhances the original model by considering two-word sequences (bigrams) instead of single words.\n",
    "#Mechanism:\n",
    "#Records the frequency of two-word pairs and the words that follow them.\n",
    "#Allows for more context-aware sentence generation by using two-word sequences.\n",
    "\n",
    "#Markovian ChatBot Extension #2:\n",
    "#Purpose: Introduces character-specific word transitions using a dataset column (character).\n",
    "#Mechanism:\n",
    "#Analyzes the frequency of word transitions based on different characters from the dataset.\n",
    "#Uses nested dictionaries to store word transitions for each character, allowing the chatbot to generate responses tailored to specific characters.\n",
    "#These extensions improve the chatbot's ability to generate coherent and contextually appropriate responses, with Extension #1 focusing on more detailed word transitions and Extension #2 adding character-based customization.\n",
    "\n",
    "# history: https://chatgpt.com/share/66eb5aa8-8150-800b-91e6-9f35b272275a\n",
    "\n",
    "# 2.Summary by Chatbot: \n",
    "\n",
    "#Original Markovian ChatBot Code:\n",
    "#The initial code snippet creates a simple Markovian ChatBot that models word transitions using a Markov chain. It tracks the frequency of each word and the words that follow it.\n",
    "\n",
    "#Expansion of the ChatBot:\n",
    "#The extended code introduces a more complex Markovian ChatBot that uses character-specific transitions. It uses bi-grams (pairs of consecutive words) to model word transitions and predicts the next word based on these bi-grams.\n",
    "#Character Handling: The code processes a dataset column character and tracks transitions specific to each character.\n",
    "#Data Structures:\n",
    "#word_used2C: Tracks how often each bi-gram appears for a given character.\n",
    "#next_word2C: Tracks what word follows each bi-gram for a given character.\n",
    "#Character-Specific Predictions: The expanded code allows for more context-aware predictions based on the character speaking.\n",
    "\n",
    "# history: https://chatgpt.com/share/66eb5b1c-a6a8-800b-bdcf-6f3881c76af5"
   ]
  },
  {
   "cell_type": "code",
   "execution_count": null,
   "id": "c63d583f",
   "metadata": {},
   "outputs": [],
   "source": [
    "# 1.Chatgpt gave me relatively clear and useful answers (both explanatory and concise) on the Monte Hall problem. \n",
    "# But on the “Markovian ChatBot” code, the answers were a bit obscure and, despite the explanations, a bit difficult for me to follow, especially since there were some codes involved that I didn't know.\n",
    "# 2.To some extent there is, and I think it mostly comes from Chatbot giving wrong answers, or it's explanations being obscure, which can make you think “how could this question be so hard!” And thus frustration.\n",
    "# 3.Overall Chatbot is a very useful tool in helping me understand the code because it can give ample explanations and diverse answers, and most importantly, specific code can be written or explained on a case-by-case basis.\n",
    "# Question 6 "
   ]
  },
  {
   "cell_type": "code",
   "execution_count": null,
   "id": "75bb5a81",
   "metadata": {},
   "outputs": [],
   "source": [
    "# I used to use Chatbot to solve math problems, and the result was that the answers were almost always wrong, so for a while I thought that Chatbot could only be used for the most basic tasks, such as providing some inspiration and so on. But since I've been learning Sta130, I've realized that Chatbot has a huge role to play in code interpretation and generation, so my view of it has changed a lot.\n",
    "# Question 7"
   ]
  },
  {
   "cell_type": "code",
   "execution_count": null,
   "id": "18aeea96",
   "metadata": {},
   "outputs": [],
   "source": [
    "# summary by Chatbot: In this conversation, you asked if you could pursue a career as a statistician without programming, and I explained that while possible, programming skills are highly beneficial. You then shared your career goals in statistics, math, or finance, and I provided a detailed breakdown of the key skills you should acquire, focusing on mathematics, programming, finance-specific knowledge, technical skills, communication, and business acumen. Finally, I summarized these skills to help guide your career development.\n",
    "# https://chatgpt.com/share/66eb5701-e98c-800b-bf4d-de30c307a41d\n",
    "# I think the answers given by Chatbot are too generalized\n",
    "# Question 8"
   ]
  },
  {
   "cell_type": "code",
   "execution_count": null,
   "id": "8d7eb5de",
   "metadata": {},
   "outputs": [],
   "source": [
    "# YES\n",
    "# Question 9"
   ]
  },
  {
   "cell_type": "code",
   "execution_count": null,
   "id": "6618692b",
   "metadata": {},
   "outputs": [],
   "source": [
    "# Chatbot summary:\n",
    "\n",
    "# 1.\n",
    "# Monty Hall Simulation Code:\n",
    "#The provided code simulates the Monty Hall problem where a contestant chooses one of three doors, Monty reveals a goat behind one of the other two doors, and the contestant decides whether to switch their choice or not.\n",
    "#The code runs multiple simulations (100,000) to determine the probability of winning when the contestant always switches doors.\n",
    "\n",
    "#Code Explanation:\n",
    "#The original code involved setting up the doors, removing options, revealing a goat, and then switching doors based on Monty's reveal.\n",
    "#Key operations included random choice and list manipulations to simulate Monty’s actions and the contestant’s decision.\n",
    "\n",
    "#Streamlined Version:\n",
    "#A simplified version of the code was suggested to improve readability and efficiency.\n",
    "#The streamlined version directly models the contestant’s choice, Monty’s reveal, and the switching strategy with fewer list operations and clearer logic.\n",
    "\n",
    "# 2.\n",
    "# Markovian ChatBot Code Explanation:\n",
    "# We discussed how a Markovian ChatBot uses two dictionaries to model word transitions:\n",
    "# word_used: Keeps track of how many times each word appears.\n",
    "# next_word: Tracks which words follow each word and how often they appear.\n",
    "# The code iterates through a list of words to update these dictionaries, counting word occurrences and recording subsequent words for each word in the input.\n",
    "# Line-by-Line Breakdown:\n",
    "# We went through the code line by line, explaining the purpose of each part, including initializing dictionaries, updating counts, and tracking next words.\n",
    "# This code helps the chatbot generate text by predicting the next word based on the frequency of word sequences in the training data, following the principles of a Markov chain.\n",
    "\n",
    "# 3.\n",
    "#Original Markovian ChatBot Code:\n",
    "#Purpose: Implements a basic Markovian chatbot using word transitions.\n",
    "#Mechanism:\n",
    "#Tracks the frequency of individual words and their immediate successors.\n",
    "#Uses these frequencies to generate new sentences based on learned transitions.\n",
    "\n",
    "#Markovian ChatBot Extension #1:\n",
    "#Purpose: Enhances the original model by considering two-word sequences (bigrams) instead of single words.\n",
    "#Mechanism:\n",
    "#Records the frequency of two-word pairs and the words that follow them.\n",
    "#Allows for more context-aware sentence generation by using two-word sequences.\n",
    "\n",
    "#Markovian ChatBot Extension #2:\n",
    "#Purpose: Introduces character-specific word transitions using a dataset column (character).\n",
    "#Mechanism:\n",
    "#Analyzes the frequency of word transitions based on different characters from the dataset.\n",
    "#Uses nested dictionaries to store word transitions for each character, allowing the chatbot to generate responses tailored to specific characters.\n",
    "#These extensions improve the chatbot's ability to generate coherent and contextually appropriate responses, with Extension #1 focusing on more detailed word transitions and Extension #2 adding character-based customization.\n",
    "\n",
    "# 4.\n",
    "#Original Markovian ChatBot Code:\n",
    "#The initial code snippet creates a simple Markovian ChatBot that models word transitions using a Markov chain. It tracks the frequency of each word and the words that follow it.\n",
    "\n",
    "#Expansion of the ChatBot:\n",
    "#The extended code introduces a more complex Markovian ChatBot that uses character-specific transitions. It uses bi-grams (pairs of consecutive words) to model word transitions and predicts the next word based on these bi-grams.\n",
    "#Character Handling: The code processes a dataset column character and tracks transitions specific to each character.\n",
    "#Data Structures:\n",
    "#word_used2C: Tracks how often each bi-gram appears for a given character.\n",
    "#next_word2C: Tracks what word follows each bi-gram for a given character.\n",
    "#Character-Specific Predictions: The expanded code allows for more context-aware predictions based on the character speaking.\n",
    "\n",
    "# 5.\n",
    "#In this conversation, you asked if you could pursue a career as a statistician without programming, and I explained that while possible, programming skills are highly beneficial. You then shared your career goals in statistics, math, or finance, and I provided a detailed breakdown of the key skills you should acquire, focusing on mathematics, programming, finance-specific knowledge, technical skills, communication, and business acumen. Finally, I summarized these skills to help guide your career development."
   ]
  },
  {
   "cell_type": "code",
   "execution_count": null,
   "id": "c080df3d",
   "metadata": {},
   "outputs": [],
   "source": [
    "# ChatGPT histories\n",
    "# 1. https://chatgpt.com/share/66eb5701-e98c-800b-bf4d-de30c307a41d\n",
    "# 2. https://chatgpt.com/share/66eb5a25-2dd4-800b-a939-4c5b1ee5ca03\n",
    "# 3. https://chatgpt.com/share/66eb5aa8-8150-800b-91e6-9f35b272275a\n",
    "# 4. https://chatgpt.com/share/66eb5b1c-a6a8-800b-bdcf-6f3881c76af5\n",
    "# 5. https://chatgpt.com/share/66eb5701-e98c-800b-bf4d-de30c307a41d"
   ]
  }
 ],
 "metadata": {
  "kernelspec": {
   "display_name": "Python 3 (ipykernel)",
   "language": "python",
   "name": "python3"
  },
  "language_info": {
   "codemirror_mode": {
    "name": "ipython",
    "version": 3
   },
   "file_extension": ".py",
   "mimetype": "text/x-python",
   "name": "python",
   "nbconvert_exporter": "python",
   "pygments_lexer": "ipython3",
   "version": "3.11.6"
  }
 },
 "nbformat": 4,
 "nbformat_minor": 5
}
